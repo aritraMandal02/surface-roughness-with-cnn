{
 "cells": [
  {
   "cell_type": "code",
   "execution_count": 60,
   "metadata": {},
   "outputs": [],
   "source": [
    "from PyPDF2 import PdfReader\n",
    "import glob\n",
    "import os\n",
    "import re\n",
    "\n",
    "roughness_dict = {\"sample_name\":[], \"Ra\":[], \"Rq\":[], \"Rz\":[]}\n",
    "for name in glob.glob('roughness_values/*.pdf'):\n",
    "    reader = PdfReader(name)\n",
    "    text = reader.pages[0].extract_text()\n",
    "    sample_name = os.path.basename(name).split('.')[0]\n",
    "    Ra = float(re.search('Ra (.*)µm', text).group(1))\n",
    "    Rq = float(re.search('Rq (.*)µm', text).group(1))\n",
    "    Rz = float(re.search('Rz (.*)µm', text).group(1))\n",
    "    roughness_dict['sample_name'].append(sample_name)\n",
    "    roughness_dict['Ra'].append(Ra)\n",
    "    roughness_dict['Rq'].append(Rq)\n",
    "    roughness_dict['Rz'].append(Rz)\n"
   ]
  },
  {
   "cell_type": "code",
   "execution_count": 61,
   "metadata": {},
   "outputs": [
    {
     "data": {
      "text/html": [
       "<div>\n",
       "<style scoped>\n",
       "    .dataframe tbody tr th:only-of-type {\n",
       "        vertical-align: middle;\n",
       "    }\n",
       "\n",
       "    .dataframe tbody tr th {\n",
       "        vertical-align: top;\n",
       "    }\n",
       "\n",
       "    .dataframe thead th {\n",
       "        text-align: right;\n",
       "    }\n",
       "</style>\n",
       "<table border=\"1\" class=\"dataframe\">\n",
       "  <thead>\n",
       "    <tr style=\"text-align: right;\">\n",
       "      <th></th>\n",
       "      <th>sample_name</th>\n",
       "      <th>Ra</th>\n",
       "      <th>Rq</th>\n",
       "      <th>Rz</th>\n",
       "    </tr>\n",
       "  </thead>\n",
       "  <tbody>\n",
       "    <tr>\n",
       "      <th>0</th>\n",
       "      <td>S1</td>\n",
       "      <td>31.22</td>\n",
       "      <td>32.31</td>\n",
       "      <td>92.34</td>\n",
       "    </tr>\n",
       "    <tr>\n",
       "      <th>1</th>\n",
       "      <td>S1</td>\n",
       "      <td>28.07</td>\n",
       "      <td>29.04</td>\n",
       "      <td>89.41</td>\n",
       "    </tr>\n",
       "    <tr>\n",
       "      <th>2</th>\n",
       "      <td>S1</td>\n",
       "      <td>29.82</td>\n",
       "      <td>30.86</td>\n",
       "      <td>90.81</td>\n",
       "    </tr>\n",
       "    <tr>\n",
       "      <th>37</th>\n",
       "      <td>S2</td>\n",
       "      <td>24.21</td>\n",
       "      <td>25.08</td>\n",
       "      <td>75.17</td>\n",
       "    </tr>\n",
       "    <tr>\n",
       "      <th>38</th>\n",
       "      <td>S2</td>\n",
       "      <td>21.69</td>\n",
       "      <td>22.64</td>\n",
       "      <td>74.45</td>\n",
       "    </tr>\n",
       "  </tbody>\n",
       "</table>\n",
       "</div>"
      ],
      "text/plain": [
       "   sample_name     Ra     Rq     Rz\n",
       "0           S1  31.22  32.31  92.34\n",
       "1           S1  28.07  29.04  89.41\n",
       "2           S1  29.82  30.86  90.81\n",
       "37          S2  24.21  25.08  75.17\n",
       "38          S2  21.69  22.64  74.45"
      ]
     },
     "execution_count": 61,
     "metadata": {},
     "output_type": "execute_result"
    }
   ],
   "source": [
    "import pandas as pd\n",
    "import numpy as np\n",
    "from natsort import index_natsorted\n",
    "roughness_df = pd.DataFrame(roughness_dict)\n",
    "roughness_df.sort_values(by=['sample_name'], \n",
    "                         key=lambda x: np.argsort(index_natsorted(roughness_df[\"sample_name\"])),\n",
    "                         inplace=True)\n",
    "roughness_df.head()"
   ]
  },
  {
   "cell_type": "code",
   "execution_count": 63,
   "metadata": {},
   "outputs": [],
   "source": [
    "roughness_df.to_excel('data/roughness_values_all.xlsx', index=False)"
   ]
  },
  {
   "cell_type": "code",
   "execution_count": 64,
   "metadata": {},
   "outputs": [],
   "source": [
    "roughness_avg_df = roughness_df.groupby('sample_name', as_index=False).mean()\n",
    "roughness_avg_df.sort_values(by=['sample_name'], \n",
    "                             key=lambda x: np.argsort(index_natsorted(roughness_avg_df[\"sample_name\"])),\n",
    "                             inplace=True)\n",
    "roughness_avg_df.to_excel('data/roughness_values_avg.xlsx', index=False)"
   ]
  },
  {
   "cell_type": "code",
   "execution_count": null,
   "metadata": {},
   "outputs": [],
   "source": []
  }
 ],
 "metadata": {
  "kernelspec": {
   "display_name": "Python 3",
   "language": "python",
   "name": "python3"
  },
  "language_info": {
   "codemirror_mode": {
    "name": "ipython",
    "version": 3
   },
   "file_extension": ".py",
   "mimetype": "text/x-python",
   "name": "python",
   "nbconvert_exporter": "python",
   "pygments_lexer": "ipython3",
   "version": "3.11.4"
  }
 },
 "nbformat": 4,
 "nbformat_minor": 2
}
